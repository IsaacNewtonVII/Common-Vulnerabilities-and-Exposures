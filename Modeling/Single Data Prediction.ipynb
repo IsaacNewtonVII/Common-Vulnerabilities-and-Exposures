{
 "cells": [
  {
   "cell_type": "code",
   "execution_count": 1,
   "id": "53330027",
   "metadata": {},
   "outputs": [],
   "source": [
    "import pickle \n",
    "import numpy as np\n",
    "import pandas as pd"
   ]
  },
  {
   "cell_type": "code",
   "execution_count": 2,
   "id": "b2398975",
   "metadata": {},
   "outputs": [],
   "source": [
    "with open('model.bin', 'rb') as f_in:\n",
    "    encoder, model = pickle.load(f_in)\n",
    "    \n",
    "\n",
    "def transform_data(data, frame, single):\n",
    "    ''' One_hot encode the data dataset, and use frame to align the encoded data to have the required features\n",
    "    data = the dataset that is to be encoded\n",
    "    frame = the dataset that contains the required features, and which is used to align the encoded data\n",
    "    n = specifies the number of records present. default is 1 i.e for single data'''\n",
    "    \n",
    "    if single:\n",
    "        x = pd.DataFrame(data, index=range(1))\n",
    "    else:\n",
    "        x = pd.DataFrame(data)\n",
    "\n",
    "    x = pd.get_dummies(data=x[['access_authentication', 'access_vector', 'access_complexity', \n",
    "                        'impact_availability', 'impact_confidentiality', 'impact_integrity']], \n",
    "                        prefix=['access_authentication', 'access_vector', 'access_complexity', 'impact_availability',\n",
    "                                'impact_confidentiality', 'impact_integrity'],)\n",
    "    frame , x = frame.align(x, join='left', axis=1, fill_value=0)\n",
    "    return x\n",
    "\n",
    "def predict(data, single=True):\n",
    "    data = transform_data(data, encoder, single=single)\n",
    "\n",
    "    prediction = model.predict(data)\n",
    "    return prediction"
   ]
  },
  {
   "cell_type": "code",
   "execution_count": 7,
   "id": "3ed8288c",
   "metadata": {},
   "outputs": [
    {
     "data": {
      "text/html": [
       "<div>\n",
       "<style scoped>\n",
       "    .dataframe tbody tr th:only-of-type {\n",
       "        vertical-align: middle;\n",
       "    }\n",
       "\n",
       "    .dataframe tbody tr th {\n",
       "        vertical-align: top;\n",
       "    }\n",
       "\n",
       "    .dataframe thead th {\n",
       "        text-align: right;\n",
       "    }\n",
       "</style>\n",
       "<table border=\"1\" class=\"dataframe\">\n",
       "  <thead>\n",
       "    <tr style=\"text-align: right;\">\n",
       "      <th></th>\n",
       "      <th>access_authentication_MULTIPLE</th>\n",
       "      <th>access_authentication_NONE</th>\n",
       "      <th>access_authentication_SINGLE</th>\n",
       "      <th>access_vector_ADJACENT_NETWORK</th>\n",
       "      <th>access_vector_LOCAL</th>\n",
       "      <th>access_vector_NETWORK</th>\n",
       "      <th>access_complexity_HIGH</th>\n",
       "      <th>access_complexity_LOW</th>\n",
       "      <th>access_complexity_MEDIUM</th>\n",
       "      <th>impact_availability_COMPLETE</th>\n",
       "      <th>impact_availability_NONE</th>\n",
       "      <th>impact_availability_PARTIAL</th>\n",
       "      <th>impact_confidentiality_COMPLETE</th>\n",
       "      <th>impact_confidentiality_NONE</th>\n",
       "      <th>impact_confidentiality_PARTIAL</th>\n",
       "      <th>impact_integrity_COMPLETE</th>\n",
       "      <th>impact_integrity_NONE</th>\n",
       "      <th>impact_integrity_PARTIAL</th>\n",
       "    </tr>\n",
       "  </thead>\n",
       "  <tbody>\n",
       "    <tr>\n",
       "      <th>0</th>\n",
       "      <td>1</td>\n",
       "      <td>0</td>\n",
       "      <td>0</td>\n",
       "      <td>0</td>\n",
       "      <td>0</td>\n",
       "      <td>1</td>\n",
       "      <td>0</td>\n",
       "      <td>0</td>\n",
       "      <td>1</td>\n",
       "      <td>0</td>\n",
       "      <td>0</td>\n",
       "      <td>1</td>\n",
       "      <td>1</td>\n",
       "      <td>0</td>\n",
       "      <td>0</td>\n",
       "      <td>0</td>\n",
       "      <td>0</td>\n",
       "      <td>1</td>\n",
       "    </tr>\n",
       "  </tbody>\n",
       "</table>\n",
       "</div>"
      ],
      "text/plain": [
       "   access_authentication_MULTIPLE  access_authentication_NONE  \\\n",
       "0                               1                           0   \n",
       "\n",
       "   access_authentication_SINGLE  access_vector_ADJACENT_NETWORK  \\\n",
       "0                             0                               0   \n",
       "\n",
       "   access_vector_LOCAL  access_vector_NETWORK  access_complexity_HIGH  \\\n",
       "0                    0                      1                       0   \n",
       "\n",
       "   access_complexity_LOW  access_complexity_MEDIUM  \\\n",
       "0                      0                         1   \n",
       "\n",
       "   impact_availability_COMPLETE  impact_availability_NONE  \\\n",
       "0                             0                         0   \n",
       "\n",
       "   impact_availability_PARTIAL  impact_confidentiality_COMPLETE  \\\n",
       "0                            1                                1   \n",
       "\n",
       "   impact_confidentiality_NONE  impact_confidentiality_PARTIAL  \\\n",
       "0                            0                               0   \n",
       "\n",
       "   impact_integrity_COMPLETE  impact_integrity_NONE  impact_integrity_PARTIAL  \n",
       "0                          0                      0                         1  "
      ]
     },
     "execution_count": 7,
     "metadata": {},
     "output_type": "execute_result"
    }
   ],
   "source": [
    "metrics_1 = {'impact_availability': 'PARTIAL',\n",
    " 'impact_confidentiality': 'COMPLETE',\n",
    " 'impact_integrity': 'PARTIAL',\n",
    "             'access_authentication': 'MULTIPLE',\n",
    " 'access_complexity': 'MEDIUM',\n",
    " 'access_vector': 'NETWORK'\n",
    " }\n",
    "\n",
    "\n",
    "data = transform_data(metrics_1, encoder, True)\n",
    "data"
   ]
  },
  {
   "cell_type": "code",
   "execution_count": 4,
   "id": "a53ae71a",
   "metadata": {},
   "outputs": [
    {
     "data": {
      "text/plain": [
       "array([7.586, 6.662])"
      ]
     },
     "execution_count": 4,
     "metadata": {},
     "output_type": "execute_result"
    }
   ],
   "source": [
    "metrics_2 = {'access_authentication': ['MULTIPLE', 'SINGLE'],\n",
    " 'access_complexity': ['MEDIUM', 'LOW'],\n",
    " 'access_vector': ['NETWORK', 'ADJACENT_NETWORK'],\n",
    " 'impact_availability': ['PARTIAL', 'COMPLETE'],\n",
    " 'impact_confidentiality': ['COMPLETE', 'COMPLETE'],\n",
    " 'impact_integrity': ['PARTIAL', 'PARTIAL']}\n",
    "\n",
    "\n",
    "predict(metrics_2, single=False)"
   ]
  },
  {
   "cell_type": "code",
   "execution_count": 5,
   "id": "b721e672",
   "metadata": {},
   "outputs": [
    {
     "data": {
      "text/plain": [
       "array([7.586, 6.662, 1.2  ])"
      ]
     },
     "execution_count": 5,
     "metadata": {},
     "output_type": "execute_result"
    }
   ],
   "source": [
    "metrics_3 = {'access_authentication': ['MULTIPLE', 'SINGLE', 'NONE'],\n",
    " 'access_complexity': ['MEDIUM', 'LOW','HIGH'],\n",
    " 'access_vector': ['NETWORK', 'ADJACENT_NETWORK','LOCAL'],\n",
    " 'impact_availability': ['PARTIAL', 'COMPLETE', 'PARTIAL'],\n",
    " 'impact_confidentiality': ['COMPLETE', 'COMPLETE', 'NONE'],\n",
    " 'impact_integrity': ['PARTIAL', 'PARTIAL', 'NONE']}\n",
    "\n",
    "predict(metrics_3, single=False)"
   ]
  },
  {
   "cell_type": "code",
   "execution_count": null,
   "id": "ad74cc93",
   "metadata": {},
   "outputs": [],
   "source": []
  }
 ],
 "metadata": {
  "kernelspec": {
   "display_name": "Python 3 (ipykernel)",
   "language": "python",
   "name": "python3"
  },
  "language_info": {
   "codemirror_mode": {
    "name": "ipython",
    "version": 3
   },
   "file_extension": ".py",
   "mimetype": "text/x-python",
   "name": "python",
   "nbconvert_exporter": "python",
   "pygments_lexer": "ipython3",
   "version": "3.9.7"
  }
 },
 "nbformat": 4,
 "nbformat_minor": 5
}
