{
 "cells": [
  {
   "cell_type": "code",
   "execution_count": 1,
   "id": "d12db6ae",
   "metadata": {},
   "outputs": [],
   "source": [
    "# importing required libraries\n",
    "import pandas as pd\n",
    "import numpy as np\n",
    "import matplotlib.pyplot as plt\n",
    "from sklearn.model_selection import train_test_split\n",
    "\n",
    "\n",
    "%matplotlib inline\n",
    "import warnings \n",
    "warnings.filterwarnings('ignore')"
   ]
  },
  {
   "cell_type": "code",
   "execution_count": 2,
   "id": "1a9696ba",
   "metadata": {},
   "outputs": [
    {
     "data": {
      "text/plain": [
       "(88776, 13)"
      ]
     },
     "execution_count": 2,
     "metadata": {},
     "output_type": "execute_result"
    }
   ],
   "source": [
    "# loading the dataset\n",
    "df = pd.read_csv('cve_clean')\n",
    "df.shape"
   ]
  },
  {
   "cell_type": "code",
   "execution_count": 3,
   "id": "4dd249ec",
   "metadata": {},
   "outputs": [
    {
     "data": {
      "text/html": [
       "<div>\n",
       "<style scoped>\n",
       "    .dataframe tbody tr th:only-of-type {\n",
       "        vertical-align: middle;\n",
       "    }\n",
       "\n",
       "    .dataframe tbody tr th {\n",
       "        vertical-align: top;\n",
       "    }\n",
       "\n",
       "    .dataframe thead th {\n",
       "        text-align: right;\n",
       "    }\n",
       "</style>\n",
       "<table border=\"1\" class=\"dataframe\">\n",
       "  <thead>\n",
       "    <tr style=\"text-align: right;\">\n",
       "      <th></th>\n",
       "      <th>cve_id</th>\n",
       "      <th>mod_date</th>\n",
       "      <th>pub_date</th>\n",
       "      <th>cvss</th>\n",
       "      <th>cwe_code</th>\n",
       "      <th>cwe_name</th>\n",
       "      <th>summary</th>\n",
       "      <th>access_authentication</th>\n",
       "      <th>access_complexity</th>\n",
       "      <th>access_vector</th>\n",
       "      <th>impact_availability</th>\n",
       "      <th>impact_confidentiality</th>\n",
       "      <th>impact_integrity</th>\n",
       "    </tr>\n",
       "  </thead>\n",
       "  <tbody>\n",
       "    <tr>\n",
       "      <th>0</th>\n",
       "      <td>CVE-2019-2211</td>\n",
       "      <td>2019-11-14 21:36:00</td>\n",
       "      <td>2019-11-13 18:15:00</td>\n",
       "      <td>7.8</td>\n",
       "      <td>89</td>\n",
       "      <td>Improper Neutralization of Special Elements u...</td>\n",
       "      <td>In createProjectionMapForQuery of TvProvider.j...</td>\n",
       "      <td>NONE</td>\n",
       "      <td>LOW</td>\n",
       "      <td>NETWORK</td>\n",
       "      <td>NONE</td>\n",
       "      <td>COMPLETE</td>\n",
       "      <td>NONE</td>\n",
       "    </tr>\n",
       "    <tr>\n",
       "      <th>1</th>\n",
       "      <td>CVE-2019-2212</td>\n",
       "      <td>2019-11-14 21:30:00</td>\n",
       "      <td>2019-11-13 18:15:00</td>\n",
       "      <td>4.9</td>\n",
       "      <td>200</td>\n",
       "      <td>Information Exposure</td>\n",
       "      <td>In poisson_distribution of random, there is an...</td>\n",
       "      <td>NONE</td>\n",
       "      <td>LOW</td>\n",
       "      <td>LOCAL</td>\n",
       "      <td>NONE</td>\n",
       "      <td>COMPLETE</td>\n",
       "      <td>NONE</td>\n",
       "    </tr>\n",
       "    <tr>\n",
       "      <th>2</th>\n",
       "      <td>CVE-2019-2213</td>\n",
       "      <td>2019-11-14 21:24:00</td>\n",
       "      <td>2019-11-13 18:15:00</td>\n",
       "      <td>6.9</td>\n",
       "      <td>416</td>\n",
       "      <td>Use After Free</td>\n",
       "      <td>In binder_free_transaction of binder.c, there ...</td>\n",
       "      <td>NONE</td>\n",
       "      <td>MEDIUM</td>\n",
       "      <td>LOCAL</td>\n",
       "      <td>COMPLETE</td>\n",
       "      <td>COMPLETE</td>\n",
       "      <td>COMPLETE</td>\n",
       "    </tr>\n",
       "    <tr>\n",
       "      <th>3</th>\n",
       "      <td>CVE-2019-2214</td>\n",
       "      <td>2019-11-14 21:19:00</td>\n",
       "      <td>2019-11-13 18:15:00</td>\n",
       "      <td>7.2</td>\n",
       "      <td>269</td>\n",
       "      <td>Improper Privilege Management</td>\n",
       "      <td>In binder_transaction of binder.c, there is a ...</td>\n",
       "      <td>NONE</td>\n",
       "      <td>LOW</td>\n",
       "      <td>LOCAL</td>\n",
       "      <td>COMPLETE</td>\n",
       "      <td>COMPLETE</td>\n",
       "      <td>COMPLETE</td>\n",
       "    </tr>\n",
       "    <tr>\n",
       "      <th>4</th>\n",
       "      <td>CVE-2019-18793</td>\n",
       "      <td>2019-11-14 21:14:00</td>\n",
       "      <td>2019-11-13 20:15:00</td>\n",
       "      <td>4.3</td>\n",
       "      <td>79</td>\n",
       "      <td>Improper Neutralization of Input During Web P...</td>\n",
       "      <td>Parallels Plesk Panel 9.5 allows XSS in target...</td>\n",
       "      <td>NONE</td>\n",
       "      <td>MEDIUM</td>\n",
       "      <td>NETWORK</td>\n",
       "      <td>NONE</td>\n",
       "      <td>NONE</td>\n",
       "      <td>PARTIAL</td>\n",
       "    </tr>\n",
       "  </tbody>\n",
       "</table>\n",
       "</div>"
      ],
      "text/plain": [
       "           cve_id             mod_date             pub_date  cvss  cwe_code  \\\n",
       "0   CVE-2019-2211  2019-11-14 21:36:00  2019-11-13 18:15:00   7.8        89   \n",
       "1   CVE-2019-2212  2019-11-14 21:30:00  2019-11-13 18:15:00   4.9       200   \n",
       "2   CVE-2019-2213  2019-11-14 21:24:00  2019-11-13 18:15:00   6.9       416   \n",
       "3   CVE-2019-2214  2019-11-14 21:19:00  2019-11-13 18:15:00   7.2       269   \n",
       "4  CVE-2019-18793  2019-11-14 21:14:00  2019-11-13 20:15:00   4.3        79   \n",
       "\n",
       "                                            cwe_name  \\\n",
       "0   Improper Neutralization of Special Elements u...   \n",
       "1                               Information Exposure   \n",
       "2                                     Use After Free   \n",
       "3                      Improper Privilege Management   \n",
       "4   Improper Neutralization of Input During Web P...   \n",
       "\n",
       "                                             summary access_authentication  \\\n",
       "0  In createProjectionMapForQuery of TvProvider.j...                  NONE   \n",
       "1  In poisson_distribution of random, there is an...                  NONE   \n",
       "2  In binder_free_transaction of binder.c, there ...                  NONE   \n",
       "3  In binder_transaction of binder.c, there is a ...                  NONE   \n",
       "4  Parallels Plesk Panel 9.5 allows XSS in target...                  NONE   \n",
       "\n",
       "  access_complexity access_vector impact_availability impact_confidentiality  \\\n",
       "0               LOW       NETWORK                NONE               COMPLETE   \n",
       "1               LOW         LOCAL                NONE               COMPLETE   \n",
       "2            MEDIUM         LOCAL            COMPLETE               COMPLETE   \n",
       "3               LOW         LOCAL            COMPLETE               COMPLETE   \n",
       "4            MEDIUM       NETWORK                NONE                   NONE   \n",
       "\n",
       "  impact_integrity  \n",
       "0             NONE  \n",
       "1             NONE  \n",
       "2         COMPLETE  \n",
       "3         COMPLETE  \n",
       "4          PARTIAL  "
      ]
     },
     "execution_count": 3,
     "metadata": {},
     "output_type": "execute_result"
    }
   ],
   "source": [
    "df.head()"
   ]
  },
  {
   "cell_type": "code",
   "execution_count": 4,
   "id": "6b4363f7",
   "metadata": {},
   "outputs": [
    {
     "name": "stdout",
     "output_type": "stream",
     "text": [
      "<class 'pandas.core.frame.DataFrame'>\n",
      "RangeIndex: 88776 entries, 0 to 88775\n",
      "Data columns (total 13 columns):\n",
      " #   Column                  Non-Null Count  Dtype  \n",
      "---  ------                  --------------  -----  \n",
      " 0   cve_id                  88776 non-null  object \n",
      " 1   mod_date                88776 non-null  object \n",
      " 2   pub_date                88776 non-null  object \n",
      " 3   cvss                    88776 non-null  float64\n",
      " 4   cwe_code                88776 non-null  int64  \n",
      " 5   cwe_name                88776 non-null  object \n",
      " 6   summary                 88776 non-null  object \n",
      " 7   access_authentication   88776 non-null  object \n",
      " 8   access_complexity       88776 non-null  object \n",
      " 9   access_vector           88776 non-null  object \n",
      " 10  impact_availability     88776 non-null  object \n",
      " 11  impact_confidentiality  88776 non-null  object \n",
      " 12  impact_integrity        88776 non-null  object \n",
      "dtypes: float64(1), int64(1), object(11)\n",
      "memory usage: 8.8+ MB\n"
     ]
    }
   ],
   "source": [
    "df.info()"
   ]
  },
  {
   "cell_type": "code",
   "execution_count": 5,
   "id": "82201f57",
   "metadata": {},
   "outputs": [],
   "source": [
    "# splitting the datasets into df_train and df_test set\n",
    "df_train, df_test = train_test_split(df, random_state=0, test_size=0.25)"
   ]
  },
  {
   "cell_type": "markdown",
   "id": "a6cbbf9d",
   "metadata": {},
   "source": [
    "Feature Engineering"
   ]
  },
  {
   "cell_type": "code",
   "execution_count": 6,
   "id": "b6c9adec",
   "metadata": {},
   "outputs": [],
   "source": [
    "# one-hot encode the df_train and extracting the target values\n",
    "X = pd.get_dummies(data=df_train[['access_authentication', 'access_vector', 'access_complexity', \n",
    "                        'impact_availability', 'impact_confidentiality', 'impact_integrity']], \n",
    "                        prefix=['access_authentication', 'access_vector', 'access_complexity', 'impact_availability',\n",
    "                                'impact_confidentiality', 'impact_integrity'],)\n",
    "y = df_train.cvss.values"
   ]
  },
  {
   "cell_type": "code",
   "execution_count": 7,
   "id": "347d44b0",
   "metadata": {},
   "outputs": [
    {
     "name": "stdout",
     "output_type": "stream",
     "text": [
      "(66582, 18)\n",
      "(66582,)\n"
     ]
    }
   ],
   "source": [
    "print(X.shape)\n",
    "print(y.shape)"
   ]
  },
  {
   "cell_type": "markdown",
   "id": "b8388aed",
   "metadata": {},
   "source": [
    "### Building the Model\n",
    "To build the model, split the df_train dataset into X_train and X_val set, then train the model(random forest regressor) on the X_train dataset and validate it predictions on the X_val dataset."
   ]
  },
  {
   "cell_type": "code",
   "execution_count": 8,
   "id": "5b344639",
   "metadata": {},
   "outputs": [],
   "source": [
    "from sklearn.model_selection import train_test_split\n",
    "\n",
    "x_train, x_val, y_train, y_val = train_test_split(X, y, random_state=0, test_size=0.35)\n"
   ]
  },
  {
   "cell_type": "code",
   "execution_count": 9,
   "id": "cdb501f4",
   "metadata": {},
   "outputs": [
    {
     "name": "stdout",
     "output_type": "stream",
     "text": [
      "(43278, 18) (43278,)\n",
      "(23304, 18) (23304,)\n"
     ]
    }
   ],
   "source": [
    "print(x_train.shape, y_train.shape)\n",
    "print(x_val.shape, y_val.shape)"
   ]
  },
  {
   "cell_type": "code",
   "execution_count": 10,
   "id": "5eb0ab01",
   "metadata": {},
   "outputs": [
    {
     "data": {
      "text/plain": [
       "RandomForestRegressor(random_state=1)"
      ]
     },
     "execution_count": 10,
     "metadata": {},
     "output_type": "execute_result"
    }
   ],
   "source": [
    "from sklearn.ensemble import RandomForestRegressor\n",
    "\n",
    "model = RandomForestRegressor(random_state=1)\n",
    "model.fit(x_train, y_train)"
   ]
  },
  {
   "cell_type": "code",
   "execution_count": 11,
   "id": "22ce447a",
   "metadata": {},
   "outputs": [],
   "source": [
    "pred = model.predict(x_val)"
   ]
  },
  {
   "cell_type": "code",
   "execution_count": 12,
   "id": "ea07696b",
   "metadata": {},
   "outputs": [
    {
     "data": {
      "text/plain": [
       "0.03"
      ]
     },
     "execution_count": 12,
     "metadata": {},
     "output_type": "execute_result"
    }
   ],
   "source": [
    "from sklearn.metrics import mean_squared_error\n",
    "\n",
    "rmse = np.sqrt(mean_squared_error(y_val, pred))\n",
    "round(rmse, 3)"
   ]
  },
  {
   "cell_type": "markdown",
   "id": "0df10543",
   "metadata": {},
   "source": [
    "### Testing the Model on Unseen data(df_test)"
   ]
  },
  {
   "cell_type": "code",
   "execution_count": 13,
   "id": "7efe38a3",
   "metadata": {},
   "outputs": [],
   "source": [
    "def transform_data(data, frame, single):\n",
    "    ''' One_hot encode the data dataset, and use frame to align the encoded data to have the required features\n",
    "    data = the dataset that is to be encoded\n",
    "    frame = the dataset that contains the required features, and which is used to align the encoded data\n",
    "    n = specifies the number of records present. default is 1 i.e for single data'''\n",
    "    \n",
    "    if single:\n",
    "        x = pd.DataFrame(data, index=range(1))\n",
    "    else:\n",
    "        x = pd.DataFrame(data)\n",
    "\n",
    "    x = pd.get_dummies(data=x[['access_authentication', 'access_vector', 'access_complexity', \n",
    "                        'impact_availability', 'impact_confidentiality', 'impact_integrity']], \n",
    "                        prefix=['access_authentication', 'access_vector', 'access_complexity', 'impact_availability',\n",
    "                                'impact_confidentiality', 'impact_integrity'],)\n",
    "    frame , x = frame.align(x, join='left', axis=1, fill_value=0)\n",
    "    return x\n",
    "\n",
    "def predict(data, single=True):\n",
    "    data = transform_data(data, X, single=single)\n",
    "\n",
    "    prediction = model.predict(data)\n",
    "    return prediction"
   ]
  },
  {
   "cell_type": "code",
   "execution_count": 14,
   "id": "790b6195",
   "metadata": {},
   "outputs": [],
   "source": [
    "X_test = transform_data(df_test.to_dict(), X, single=False)\n",
    "\n",
    "y_test = df_test.cvss.values"
   ]
  },
  {
   "cell_type": "code",
   "execution_count": 15,
   "id": "c3638380",
   "metadata": {},
   "outputs": [
    {
     "name": "stdout",
     "output_type": "stream",
     "text": [
      "(22194, 18) (22194,)\n"
     ]
    }
   ],
   "source": [
    "print(X_test.shape, y_test.shape)"
   ]
  },
  {
   "cell_type": "code",
   "execution_count": 16,
   "id": "01d3c837",
   "metadata": {},
   "outputs": [],
   "source": [
    "test_pred = model.predict(X_test)"
   ]
  },
  {
   "cell_type": "code",
   "execution_count": 17,
   "id": "b725269d",
   "metadata": {},
   "outputs": [
    {
     "data": {
      "text/plain": [
       "0.044"
      ]
     },
     "execution_count": 17,
     "metadata": {},
     "output_type": "execute_result"
    }
   ],
   "source": [
    "from sklearn.metrics import mean_squared_error\n",
    "\n",
    "rmse = np.sqrt(mean_squared_error(y_test, test_pred))\n",
    "round(rmse, 3)"
   ]
  },
  {
   "cell_type": "markdown",
   "id": "cc15fe4b",
   "metadata": {},
   "source": [
    "### Testing on single data"
   ]
  },
  {
   "cell_type": "code",
   "execution_count": 18,
   "id": "d0f0ed03",
   "metadata": {
    "scrolled": true
   },
   "outputs": [
    {
     "data": {
      "text/plain": [
       "{'access_authentication': 'NONE',\n",
       " 'access_complexity': 'LOW',\n",
       " 'access_vector': 'NETWORK',\n",
       " 'impact_availability': 'PARTIAL',\n",
       " 'impact_confidentiality': 'NONE',\n",
       " 'impact_integrity': 'NONE'}"
      ]
     },
     "execution_count": 18,
     "metadata": {},
     "output_type": "execute_result"
    }
   ],
   "source": [
    "metrics_1 = df.iloc[49898,7:].to_dict()\n",
    "metrics_1"
   ]
  },
  {
   "cell_type": "code",
   "execution_count": 19,
   "id": "43415ab7",
   "metadata": {},
   "outputs": [
    {
     "data": {
      "text/plain": [
       "array([5.])"
      ]
     },
     "execution_count": 19,
     "metadata": {},
     "output_type": "execute_result"
    }
   ],
   "source": [
    "predict(metrics_1)"
   ]
  },
  {
   "cell_type": "code",
   "execution_count": 20,
   "id": "fd055690",
   "metadata": {},
   "outputs": [],
   "source": [
    "metrics_2 = {'access_authentication': 'MULTIPLE',\n",
    " 'access_complexity': 'MEDIUM',\n",
    " 'access_vector': 'NETWORK',\n",
    " 'impact_availability': 'PARTIAL',\n",
    " 'impact_confidentiality': 'COMPLETE',\n",
    " 'impact_integrity': 'NONE'}\n"
   ]
  },
  {
   "cell_type": "code",
   "execution_count": 21,
   "id": "337bcdf0",
   "metadata": {},
   "outputs": [
    {
     "data": {
      "text/plain": [
       "array([6.687])"
      ]
     },
     "execution_count": 21,
     "metadata": {},
     "output_type": "execute_result"
    }
   ],
   "source": [
    "predict(metrics_2)"
   ]
  },
  {
   "cell_type": "code",
   "execution_count": 22,
   "id": "d22a64fe",
   "metadata": {},
   "outputs": [
    {
     "data": {
      "text/plain": [
       "5.0"
      ]
     },
     "execution_count": 22,
     "metadata": {},
     "output_type": "execute_result"
    }
   ],
   "source": [
    "df.iloc[49898,3]"
   ]
  },
  {
   "cell_type": "markdown",
   "id": "d7f2a134",
   "metadata": {},
   "source": [
    "Saving Data"
   ]
  },
  {
   "cell_type": "code",
   "execution_count": 23,
   "id": "25525a7d",
   "metadata": {},
   "outputs": [],
   "source": [
    "import pickle\n",
    "\n",
    "with open('model.bin', 'wb') as f_out:\n",
    "    pickle.dump((X, model), f_out)"
   ]
  }
 ],
 "metadata": {
  "kernelspec": {
   "display_name": "Python 3 (ipykernel)",
   "language": "python",
   "name": "python3"
  },
  "language_info": {
   "codemirror_mode": {
    "name": "ipython",
    "version": 3
   },
   "file_extension": ".py",
   "mimetype": "text/x-python",
   "name": "python",
   "nbconvert_exporter": "python",
   "pygments_lexer": "ipython3",
   "version": "3.9.7"
  }
 },
 "nbformat": 4,
 "nbformat_minor": 5
}
