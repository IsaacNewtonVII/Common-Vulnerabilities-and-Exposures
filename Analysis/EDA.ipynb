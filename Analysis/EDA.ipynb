{
 "cells": [
  {
   "cell_type": "markdown",
   "id": "c1db6870",
   "metadata": {},
   "source": [
    "# Exploratory Data Analysis on the Common Vulnerabilities and Exposures Dataset\n",
    "## by(Raji Gbenga Kabir)"
   ]
  },
  {
   "cell_type": "code",
   "execution_count": 309,
   "id": "05a99ac0",
   "metadata": {},
   "outputs": [],
   "source": [
    "#import required libraries\n",
    "import numpy as np\n",
    "import pandas as pd\n",
    "import matplotlib.pyplot as plt\n",
    "import seaborn as sb\n",
    "import warnings\n",
    "warnings.filterwarnings('ignore')\n",
    "\n",
    "%matplotlib inline"
   ]
  },
  {
   "cell_type": "code",
   "execution_count": 310,
   "id": "a592a1c1",
   "metadata": {},
   "outputs": [],
   "source": [
    "#loading all datasets\n",
    "cve = pd.read_csv('cve.csv')\n",
    "products = pd.read_csv('products.csv')\n",
    "vendors = pd.read_csv('vendors.csv')\n",
    "vendors_products = pd.read_csv('vendor_product.csv', index_col=0)"
   ]
  },
  {
   "cell_type": "markdown",
   "id": "265539d5",
   "metadata": {},
   "source": [
    "Accessing all Dataset"
   ]
  },
  {
   "cell_type": "markdown",
   "id": "ac068abb",
   "metadata": {},
   "source": [
    "CVE dataset"
   ]
  },
  {
   "cell_type": "code",
   "execution_count": 311,
   "id": "b717207a",
   "metadata": {},
   "outputs": [
    {
     "data": {
      "text/plain": [
       "(89660, 13)"
      ]
     },
     "execution_count": 311,
     "metadata": {},
     "output_type": "execute_result"
    }
   ],
   "source": [
    "cve.shape"
   ]
  },
  {
   "cell_type": "code",
   "execution_count": 312,
   "id": "af351416",
   "metadata": {},
   "outputs": [
    {
     "data": {
      "text/html": [
       "<div>\n",
       "<style scoped>\n",
       "    .dataframe tbody tr th:only-of-type {\n",
       "        vertical-align: middle;\n",
       "    }\n",
       "\n",
       "    .dataframe tbody tr th {\n",
       "        vertical-align: top;\n",
       "    }\n",
       "\n",
       "    .dataframe thead th {\n",
       "        text-align: right;\n",
       "    }\n",
       "</style>\n",
       "<table border=\"1\" class=\"dataframe\">\n",
       "  <thead>\n",
       "    <tr style=\"text-align: right;\">\n",
       "      <th></th>\n",
       "      <th>Unnamed: 0</th>\n",
       "      <th>mod_date</th>\n",
       "      <th>pub_date</th>\n",
       "      <th>cvss</th>\n",
       "      <th>cwe_code</th>\n",
       "      <th>cwe_name</th>\n",
       "      <th>summary</th>\n",
       "      <th>access_authentication</th>\n",
       "      <th>access_complexity</th>\n",
       "      <th>access_vector</th>\n",
       "      <th>impact_availability</th>\n",
       "      <th>impact_confidentiality</th>\n",
       "      <th>impact_integrity</th>\n",
       "    </tr>\n",
       "  </thead>\n",
       "  <tbody>\n",
       "    <tr>\n",
       "      <th>0</th>\n",
       "      <td>CVE-2019-16548</td>\n",
       "      <td>2019-11-21 15:15:00</td>\n",
       "      <td>2019-11-21 15:15:00</td>\n",
       "      <td>6.8</td>\n",
       "      <td>352</td>\n",
       "      <td>Cross-Site Request Forgery (CSRF)</td>\n",
       "      <td>A cross-site request forgery vulnerability in ...</td>\n",
       "      <td>NaN</td>\n",
       "      <td>NaN</td>\n",
       "      <td>NaN</td>\n",
       "      <td>NaN</td>\n",
       "      <td>NaN</td>\n",
       "      <td>NaN</td>\n",
       "    </tr>\n",
       "    <tr>\n",
       "      <th>1</th>\n",
       "      <td>CVE-2019-16547</td>\n",
       "      <td>2019-11-21 15:15:00</td>\n",
       "      <td>2019-11-21 15:15:00</td>\n",
       "      <td>4.0</td>\n",
       "      <td>732</td>\n",
       "      <td>Incorrect Permission Assignment for Critical ...</td>\n",
       "      <td>Missing permission checks in various API endpo...</td>\n",
       "      <td>NaN</td>\n",
       "      <td>NaN</td>\n",
       "      <td>NaN</td>\n",
       "      <td>NaN</td>\n",
       "      <td>NaN</td>\n",
       "      <td>NaN</td>\n",
       "    </tr>\n",
       "    <tr>\n",
       "      <th>2</th>\n",
       "      <td>CVE-2019-16546</td>\n",
       "      <td>2019-11-21 15:15:00</td>\n",
       "      <td>2019-11-21 15:15:00</td>\n",
       "      <td>4.3</td>\n",
       "      <td>639</td>\n",
       "      <td>Authorization Bypass Through User-Controlled Key</td>\n",
       "      <td>Jenkins Google Compute Engine Plugin 4.1.1 and...</td>\n",
       "      <td>NaN</td>\n",
       "      <td>NaN</td>\n",
       "      <td>NaN</td>\n",
       "      <td>NaN</td>\n",
       "      <td>NaN</td>\n",
       "      <td>NaN</td>\n",
       "    </tr>\n",
       "    <tr>\n",
       "      <th>3</th>\n",
       "      <td>CVE-2013-2092</td>\n",
       "      <td>2019-11-20 21:22:00</td>\n",
       "      <td>2019-11-20 21:15:00</td>\n",
       "      <td>4.3</td>\n",
       "      <td>79</td>\n",
       "      <td>Improper Neutralization of Input During Web P...</td>\n",
       "      <td>Cross-site Scripting (XSS) in Dolibarr ERP/CRM...</td>\n",
       "      <td>NaN</td>\n",
       "      <td>NaN</td>\n",
       "      <td>NaN</td>\n",
       "      <td>NaN</td>\n",
       "      <td>NaN</td>\n",
       "      <td>NaN</td>\n",
       "    </tr>\n",
       "    <tr>\n",
       "      <th>4</th>\n",
       "      <td>CVE-2013-2091</td>\n",
       "      <td>2019-11-20 20:15:00</td>\n",
       "      <td>2019-11-20 20:15:00</td>\n",
       "      <td>7.5</td>\n",
       "      <td>89</td>\n",
       "      <td>Improper Neutralization of Special Elements u...</td>\n",
       "      <td>SQL injection vulnerability in Dolibarr ERP/CR...</td>\n",
       "      <td>NaN</td>\n",
       "      <td>NaN</td>\n",
       "      <td>NaN</td>\n",
       "      <td>NaN</td>\n",
       "      <td>NaN</td>\n",
       "      <td>NaN</td>\n",
       "    </tr>\n",
       "  </tbody>\n",
       "</table>\n",
       "</div>"
      ],
      "text/plain": [
       "       Unnamed: 0             mod_date             pub_date  cvss  cwe_code  \\\n",
       "0  CVE-2019-16548  2019-11-21 15:15:00  2019-11-21 15:15:00   6.8       352   \n",
       "1  CVE-2019-16547  2019-11-21 15:15:00  2019-11-21 15:15:00   4.0       732   \n",
       "2  CVE-2019-16546  2019-11-21 15:15:00  2019-11-21 15:15:00   4.3       639   \n",
       "3   CVE-2013-2092  2019-11-20 21:22:00  2019-11-20 21:15:00   4.3        79   \n",
       "4   CVE-2013-2091  2019-11-20 20:15:00  2019-11-20 20:15:00   7.5        89   \n",
       "\n",
       "                                            cwe_name  \\\n",
       "0                  Cross-Site Request Forgery (CSRF)   \n",
       "1   Incorrect Permission Assignment for Critical ...   \n",
       "2   Authorization Bypass Through User-Controlled Key   \n",
       "3   Improper Neutralization of Input During Web P...   \n",
       "4   Improper Neutralization of Special Elements u...   \n",
       "\n",
       "                                             summary access_authentication  \\\n",
       "0  A cross-site request forgery vulnerability in ...                   NaN   \n",
       "1  Missing permission checks in various API endpo...                   NaN   \n",
       "2  Jenkins Google Compute Engine Plugin 4.1.1 and...                   NaN   \n",
       "3  Cross-site Scripting (XSS) in Dolibarr ERP/CRM...                   NaN   \n",
       "4  SQL injection vulnerability in Dolibarr ERP/CR...                   NaN   \n",
       "\n",
       "  access_complexity access_vector impact_availability impact_confidentiality  \\\n",
       "0               NaN           NaN                 NaN                    NaN   \n",
       "1               NaN           NaN                 NaN                    NaN   \n",
       "2               NaN           NaN                 NaN                    NaN   \n",
       "3               NaN           NaN                 NaN                    NaN   \n",
       "4               NaN           NaN                 NaN                    NaN   \n",
       "\n",
       "  impact_integrity  \n",
       "0              NaN  \n",
       "1              NaN  \n",
       "2              NaN  \n",
       "3              NaN  \n",
       "4              NaN  "
      ]
     },
     "execution_count": 312,
     "metadata": {},
     "output_type": "execute_result"
    }
   ],
   "source": [
    "cve.head()"
   ]
  },
  {
   "cell_type": "code",
   "execution_count": 313,
   "id": "7819d30f",
   "metadata": {},
   "outputs": [],
   "source": [
    "cve.rename(columns={'Unnamed: 0': 'cve_id'}, inplace=True)"
   ]
  },
  {
   "cell_type": "code",
   "execution_count": 314,
   "id": "e9830f53",
   "metadata": {},
   "outputs": [
    {
     "name": "stdout",
     "output_type": "stream",
     "text": [
      "<class 'pandas.core.frame.DataFrame'>\n",
      "RangeIndex: 89660 entries, 0 to 89659\n",
      "Data columns (total 13 columns):\n",
      " #   Column                  Non-Null Count  Dtype  \n",
      "---  ------                  --------------  -----  \n",
      " 0   cve_id                  89660 non-null  object \n",
      " 1   mod_date                89660 non-null  object \n",
      " 2   pub_date                89660 non-null  object \n",
      " 3   cvss                    89660 non-null  float64\n",
      " 4   cwe_code                89660 non-null  int64  \n",
      " 5   cwe_name                89660 non-null  object \n",
      " 6   summary                 89660 non-null  object \n",
      " 7   access_authentication   88776 non-null  object \n",
      " 8   access_complexity       88776 non-null  object \n",
      " 9   access_vector           88776 non-null  object \n",
      " 10  impact_availability     88776 non-null  object \n",
      " 11  impact_confidentiality  88776 non-null  object \n",
      " 12  impact_integrity        88776 non-null  object \n",
      "dtypes: float64(1), int64(1), object(11)\n",
      "memory usage: 8.9+ MB\n"
     ]
    }
   ],
   "source": [
    "cve.info()"
   ]
  },
  {
   "cell_type": "code",
   "execution_count": 315,
   "id": "af8ceb9b",
   "metadata": {},
   "outputs": [
    {
     "data": {
      "text/plain": [
       "0"
      ]
     },
     "execution_count": 315,
     "metadata": {},
     "output_type": "execute_result"
    }
   ],
   "source": [
    "cve.duplicated().sum()"
   ]
  },
  {
   "cell_type": "code",
   "execution_count": 316,
   "id": "4df989e8",
   "metadata": {},
   "outputs": [
    {
     "data": {
      "text/plain": [
       "cve_id                    89660\n",
       "mod_date                  33173\n",
       "pub_date                  13235\n",
       "cvss                         70\n",
       "cwe_code                    170\n",
       "cwe_name                    170\n",
       "summary                   87432\n",
       "access_authentication         3\n",
       "access_complexity             3\n",
       "access_vector                 3\n",
       "impact_availability           3\n",
       "impact_confidentiality        3\n",
       "impact_integrity              3\n",
       "dtype: int64"
      ]
     },
     "execution_count": 316,
     "metadata": {},
     "output_type": "execute_result"
    }
   ],
   "source": [
    "cve.nunique()"
   ]
  },
  {
   "cell_type": "code",
   "execution_count": 317,
   "id": "f4b07029",
   "metadata": {},
   "outputs": [
    {
     "data": {
      "text/plain": [
       "cve_id                      0\n",
       "mod_date                    0\n",
       "pub_date                    0\n",
       "cvss                        0\n",
       "cwe_code                    0\n",
       "cwe_name                    0\n",
       "summary                     0\n",
       "access_authentication     884\n",
       "access_complexity         884\n",
       "access_vector             884\n",
       "impact_availability       884\n",
       "impact_confidentiality    884\n",
       "impact_integrity          884\n",
       "dtype: int64"
      ]
     },
     "execution_count": 317,
     "metadata": {},
     "output_type": "execute_result"
    }
   ],
   "source": [
    "cve.isna().sum()"
   ]
  },
  {
   "cell_type": "code",
   "execution_count": 318,
   "id": "aca1edc7",
   "metadata": {},
   "outputs": [
    {
     "data": {
      "text/html": [
       "<div>\n",
       "<style scoped>\n",
       "    .dataframe tbody tr th:only-of-type {\n",
       "        vertical-align: middle;\n",
       "    }\n",
       "\n",
       "    .dataframe tbody tr th {\n",
       "        vertical-align: top;\n",
       "    }\n",
       "\n",
       "    .dataframe thead th {\n",
       "        text-align: right;\n",
       "    }\n",
       "</style>\n",
       "<table border=\"1\" class=\"dataframe\">\n",
       "  <thead>\n",
       "    <tr style=\"text-align: right;\">\n",
       "      <th></th>\n",
       "      <th>cve_id</th>\n",
       "      <th>mod_date</th>\n",
       "      <th>pub_date</th>\n",
       "      <th>cvss</th>\n",
       "      <th>cwe_code</th>\n",
       "      <th>cwe_name</th>\n",
       "      <th>summary</th>\n",
       "      <th>access_authentication</th>\n",
       "      <th>access_complexity</th>\n",
       "      <th>access_vector</th>\n",
       "      <th>impact_availability</th>\n",
       "      <th>impact_confidentiality</th>\n",
       "      <th>impact_integrity</th>\n",
       "    </tr>\n",
       "  </thead>\n",
       "  <tbody>\n",
       "    <tr>\n",
       "      <th>count</th>\n",
       "      <td>89660</td>\n",
       "      <td>89660</td>\n",
       "      <td>89660</td>\n",
       "      <td>89660.000000</td>\n",
       "      <td>89660.000000</td>\n",
       "      <td>89660</td>\n",
       "      <td>89660</td>\n",
       "      <td>88776</td>\n",
       "      <td>88776</td>\n",
       "      <td>88776</td>\n",
       "      <td>88776</td>\n",
       "      <td>88776</td>\n",
       "      <td>88776</td>\n",
       "    </tr>\n",
       "    <tr>\n",
       "      <th>unique</th>\n",
       "      <td>89660</td>\n",
       "      <td>33173</td>\n",
       "      <td>13235</td>\n",
       "      <td>NaN</td>\n",
       "      <td>NaN</td>\n",
       "      <td>170</td>\n",
       "      <td>87432</td>\n",
       "      <td>3</td>\n",
       "      <td>3</td>\n",
       "      <td>3</td>\n",
       "      <td>3</td>\n",
       "      <td>3</td>\n",
       "      <td>3</td>\n",
       "    </tr>\n",
       "    <tr>\n",
       "      <th>top</th>\n",
       "      <td>CVE-2019-16548</td>\n",
       "      <td>2019-10-03 00:03:00</td>\n",
       "      <td>2018-07-09 06:29:00</td>\n",
       "      <td>NaN</td>\n",
       "      <td>NaN</td>\n",
       "      <td>Improper Restriction of Operations within the...</td>\n",
       "      <td>A remote code execution vulnerability was iden...</td>\n",
       "      <td>NONE</td>\n",
       "      <td>LOW</td>\n",
       "      <td>NETWORK</td>\n",
       "      <td>PARTIAL</td>\n",
       "      <td>PARTIAL</td>\n",
       "      <td>PARTIAL</td>\n",
       "    </tr>\n",
       "    <tr>\n",
       "      <th>freq</th>\n",
       "      <td>1</td>\n",
       "      <td>3641</td>\n",
       "      <td>322</td>\n",
       "      <td>NaN</td>\n",
       "      <td>NaN</td>\n",
       "      <td>12344</td>\n",
       "      <td>83</td>\n",
       "      <td>76777</td>\n",
       "      <td>45746</td>\n",
       "      <td>76104</td>\n",
       "      <td>35991</td>\n",
       "      <td>42039</td>\n",
       "      <td>46357</td>\n",
       "    </tr>\n",
       "    <tr>\n",
       "      <th>mean</th>\n",
       "      <td>NaN</td>\n",
       "      <td>NaN</td>\n",
       "      <td>NaN</td>\n",
       "      <td>6.021429</td>\n",
       "      <td>199.690854</td>\n",
       "      <td>NaN</td>\n",
       "      <td>NaN</td>\n",
       "      <td>NaN</td>\n",
       "      <td>NaN</td>\n",
       "      <td>NaN</td>\n",
       "      <td>NaN</td>\n",
       "      <td>NaN</td>\n",
       "      <td>NaN</td>\n",
       "    </tr>\n",
       "    <tr>\n",
       "      <th>std</th>\n",
       "      <td>NaN</td>\n",
       "      <td>NaN</td>\n",
       "      <td>NaN</td>\n",
       "      <td>1.994757</td>\n",
       "      <td>176.177244</td>\n",
       "      <td>NaN</td>\n",
       "      <td>NaN</td>\n",
       "      <td>NaN</td>\n",
       "      <td>NaN</td>\n",
       "      <td>NaN</td>\n",
       "      <td>NaN</td>\n",
       "      <td>NaN</td>\n",
       "      <td>NaN</td>\n",
       "    </tr>\n",
       "    <tr>\n",
       "      <th>min</th>\n",
       "      <td>NaN</td>\n",
       "      <td>NaN</td>\n",
       "      <td>NaN</td>\n",
       "      <td>0.000000</td>\n",
       "      <td>1.000000</td>\n",
       "      <td>NaN</td>\n",
       "      <td>NaN</td>\n",
       "      <td>NaN</td>\n",
       "      <td>NaN</td>\n",
       "      <td>NaN</td>\n",
       "      <td>NaN</td>\n",
       "      <td>NaN</td>\n",
       "      <td>NaN</td>\n",
       "    </tr>\n",
       "    <tr>\n",
       "      <th>25%</th>\n",
       "      <td>NaN</td>\n",
       "      <td>NaN</td>\n",
       "      <td>NaN</td>\n",
       "      <td>4.300000</td>\n",
       "      <td>79.000000</td>\n",
       "      <td>NaN</td>\n",
       "      <td>NaN</td>\n",
       "      <td>NaN</td>\n",
       "      <td>NaN</td>\n",
       "      <td>NaN</td>\n",
       "      <td>NaN</td>\n",
       "      <td>NaN</td>\n",
       "      <td>NaN</td>\n",
       "    </tr>\n",
       "    <tr>\n",
       "      <th>50%</th>\n",
       "      <td>NaN</td>\n",
       "      <td>NaN</td>\n",
       "      <td>NaN</td>\n",
       "      <td>5.800000</td>\n",
       "      <td>119.000000</td>\n",
       "      <td>NaN</td>\n",
       "      <td>NaN</td>\n",
       "      <td>NaN</td>\n",
       "      <td>NaN</td>\n",
       "      <td>NaN</td>\n",
       "      <td>NaN</td>\n",
       "      <td>NaN</td>\n",
       "      <td>NaN</td>\n",
       "    </tr>\n",
       "    <tr>\n",
       "      <th>75%</th>\n",
       "      <td>NaN</td>\n",
       "      <td>NaN</td>\n",
       "      <td>NaN</td>\n",
       "      <td>7.500000</td>\n",
       "      <td>284.000000</td>\n",
       "      <td>NaN</td>\n",
       "      <td>NaN</td>\n",
       "      <td>NaN</td>\n",
       "      <td>NaN</td>\n",
       "      <td>NaN</td>\n",
       "      <td>NaN</td>\n",
       "      <td>NaN</td>\n",
       "      <td>NaN</td>\n",
       "    </tr>\n",
       "    <tr>\n",
       "      <th>max</th>\n",
       "      <td>NaN</td>\n",
       "      <td>NaN</td>\n",
       "      <td>NaN</td>\n",
       "      <td>10.000000</td>\n",
       "      <td>1188.000000</td>\n",
       "      <td>NaN</td>\n",
       "      <td>NaN</td>\n",
       "      <td>NaN</td>\n",
       "      <td>NaN</td>\n",
       "      <td>NaN</td>\n",
       "      <td>NaN</td>\n",
       "      <td>NaN</td>\n",
       "      <td>NaN</td>\n",
       "    </tr>\n",
       "  </tbody>\n",
       "</table>\n",
       "</div>"
      ],
      "text/plain": [
       "                cve_id             mod_date             pub_date  \\\n",
       "count            89660                89660                89660   \n",
       "unique           89660                33173                13235   \n",
       "top     CVE-2019-16548  2019-10-03 00:03:00  2018-07-09 06:29:00   \n",
       "freq                 1                 3641                  322   \n",
       "mean               NaN                  NaN                  NaN   \n",
       "std                NaN                  NaN                  NaN   \n",
       "min                NaN                  NaN                  NaN   \n",
       "25%                NaN                  NaN                  NaN   \n",
       "50%                NaN                  NaN                  NaN   \n",
       "75%                NaN                  NaN                  NaN   \n",
       "max                NaN                  NaN                  NaN   \n",
       "\n",
       "                cvss      cwe_code  \\\n",
       "count   89660.000000  89660.000000   \n",
       "unique           NaN           NaN   \n",
       "top              NaN           NaN   \n",
       "freq             NaN           NaN   \n",
       "mean        6.021429    199.690854   \n",
       "std         1.994757    176.177244   \n",
       "min         0.000000      1.000000   \n",
       "25%         4.300000     79.000000   \n",
       "50%         5.800000    119.000000   \n",
       "75%         7.500000    284.000000   \n",
       "max        10.000000   1188.000000   \n",
       "\n",
       "                                                 cwe_name  \\\n",
       "count                                               89660   \n",
       "unique                                                170   \n",
       "top      Improper Restriction of Operations within the...   \n",
       "freq                                                12344   \n",
       "mean                                                  NaN   \n",
       "std                                                   NaN   \n",
       "min                                                   NaN   \n",
       "25%                                                   NaN   \n",
       "50%                                                   NaN   \n",
       "75%                                                   NaN   \n",
       "max                                                   NaN   \n",
       "\n",
       "                                                  summary  \\\n",
       "count                                               89660   \n",
       "unique                                              87432   \n",
       "top     A remote code execution vulnerability was iden...   \n",
       "freq                                                   83   \n",
       "mean                                                  NaN   \n",
       "std                                                   NaN   \n",
       "min                                                   NaN   \n",
       "25%                                                   NaN   \n",
       "50%                                                   NaN   \n",
       "75%                                                   NaN   \n",
       "max                                                   NaN   \n",
       "\n",
       "       access_authentication access_complexity access_vector  \\\n",
       "count                  88776             88776         88776   \n",
       "unique                     3                 3             3   \n",
       "top                     NONE               LOW       NETWORK   \n",
       "freq                   76777             45746         76104   \n",
       "mean                     NaN               NaN           NaN   \n",
       "std                      NaN               NaN           NaN   \n",
       "min                      NaN               NaN           NaN   \n",
       "25%                      NaN               NaN           NaN   \n",
       "50%                      NaN               NaN           NaN   \n",
       "75%                      NaN               NaN           NaN   \n",
       "max                      NaN               NaN           NaN   \n",
       "\n",
       "       impact_availability impact_confidentiality impact_integrity  \n",
       "count                88776                  88776            88776  \n",
       "unique                   3                      3                3  \n",
       "top                PARTIAL                PARTIAL          PARTIAL  \n",
       "freq                 35991                  42039            46357  \n",
       "mean                   NaN                    NaN              NaN  \n",
       "std                    NaN                    NaN              NaN  \n",
       "min                    NaN                    NaN              NaN  \n",
       "25%                    NaN                    NaN              NaN  \n",
       "50%                    NaN                    NaN              NaN  \n",
       "75%                    NaN                    NaN              NaN  \n",
       "max                    NaN                    NaN              NaN  "
      ]
     },
     "execution_count": 318,
     "metadata": {},
     "output_type": "execute_result"
    }
   ],
   "source": [
    "cve.describe(include='all')"
   ]
  },
  {
   "cell_type": "markdown",
   "id": "f8e44f41",
   "metadata": {},
   "source": [
    "PRODUCTS datasets"
   ]
  },
  {
   "cell_type": "code",
   "execution_count": 319,
   "id": "8b2d5087",
   "metadata": {},
   "outputs": [
    {
     "data": {
      "text/plain": [
       "(180585, 2)"
      ]
     },
     "execution_count": 319,
     "metadata": {},
     "output_type": "execute_result"
    }
   ],
   "source": [
    "products.shape"
   ]
  },
  {
   "cell_type": "code",
   "execution_count": 320,
   "id": "70f99ea7",
   "metadata": {},
   "outputs": [
    {
     "data": {
      "text/html": [
       "<div>\n",
       "<style scoped>\n",
       "    .dataframe tbody tr th:only-of-type {\n",
       "        vertical-align: middle;\n",
       "    }\n",
       "\n",
       "    .dataframe tbody tr th {\n",
       "        vertical-align: top;\n",
       "    }\n",
       "\n",
       "    .dataframe thead th {\n",
       "        text-align: right;\n",
       "    }\n",
       "</style>\n",
       "<table border=\"1\" class=\"dataframe\">\n",
       "  <thead>\n",
       "    <tr style=\"text-align: right;\">\n",
       "      <th></th>\n",
       "      <th>cve_id</th>\n",
       "      <th>vulnerable_product</th>\n",
       "    </tr>\n",
       "  </thead>\n",
       "  <tbody>\n",
       "    <tr>\n",
       "      <th>0</th>\n",
       "      <td>CVE-2019-16548</td>\n",
       "      <td>google_compute_engine</td>\n",
       "    </tr>\n",
       "    <tr>\n",
       "      <th>1</th>\n",
       "      <td>CVE-2019-16547</td>\n",
       "      <td>google_compute_engine</td>\n",
       "    </tr>\n",
       "    <tr>\n",
       "      <th>2</th>\n",
       "      <td>CVE-2019-16546</td>\n",
       "      <td>google_compute_engine</td>\n",
       "    </tr>\n",
       "    <tr>\n",
       "      <th>3</th>\n",
       "      <td>CVE-2013-2092</td>\n",
       "      <td>dolibarr</td>\n",
       "    </tr>\n",
       "    <tr>\n",
       "      <th>4</th>\n",
       "      <td>CVE-2013-2091</td>\n",
       "      <td>dolibarr</td>\n",
       "    </tr>\n",
       "  </tbody>\n",
       "</table>\n",
       "</div>"
      ],
      "text/plain": [
       "           cve_id     vulnerable_product\n",
       "0  CVE-2019-16548  google_compute_engine\n",
       "1  CVE-2019-16547  google_compute_engine\n",
       "2  CVE-2019-16546  google_compute_engine\n",
       "3   CVE-2013-2092               dolibarr\n",
       "4   CVE-2013-2091               dolibarr"
      ]
     },
     "execution_count": 320,
     "metadata": {},
     "output_type": "execute_result"
    }
   ],
   "source": [
    "products.head()"
   ]
  },
  {
   "cell_type": "code",
   "execution_count": 321,
   "id": "9bc85cc1",
   "metadata": {},
   "outputs": [
    {
     "name": "stdout",
     "output_type": "stream",
     "text": [
      "<class 'pandas.core.frame.DataFrame'>\n",
      "RangeIndex: 180585 entries, 0 to 180584\n",
      "Data columns (total 2 columns):\n",
      " #   Column              Non-Null Count   Dtype \n",
      "---  ------              --------------   ----- \n",
      " 0   cve_id              180585 non-null  object\n",
      " 1   vulnerable_product  180543 non-null  object\n",
      "dtypes: object(2)\n",
      "memory usage: 2.8+ MB\n"
     ]
    }
   ],
   "source": [
    "products.info()"
   ]
  },
  {
   "cell_type": "code",
   "execution_count": 322,
   "id": "c8ae2e93",
   "metadata": {},
   "outputs": [
    {
     "data": {
      "text/plain": [
       "0"
      ]
     },
     "execution_count": 322,
     "metadata": {},
     "output_type": "execute_result"
    }
   ],
   "source": [
    "products.duplicated().sum()"
   ]
  },
  {
   "cell_type": "code",
   "execution_count": 323,
   "id": "d9a99127",
   "metadata": {},
   "outputs": [
    {
     "data": {
      "text/plain": [
       "cve_id                 0\n",
       "vulnerable_product    42\n",
       "dtype: int64"
      ]
     },
     "execution_count": 323,
     "metadata": {},
     "output_type": "execute_result"
    }
   ],
   "source": [
    "products.isna().sum()"
   ]
  },
  {
   "cell_type": "code",
   "execution_count": 324,
   "id": "5d1f8f95",
   "metadata": {},
   "outputs": [
    {
     "data": {
      "text/html": [
       "<div>\n",
       "<style scoped>\n",
       "    .dataframe tbody tr th:only-of-type {\n",
       "        vertical-align: middle;\n",
       "    }\n",
       "\n",
       "    .dataframe tbody tr th {\n",
       "        vertical-align: top;\n",
       "    }\n",
       "\n",
       "    .dataframe thead th {\n",
       "        text-align: right;\n",
       "    }\n",
       "</style>\n",
       "<table border=\"1\" class=\"dataframe\">\n",
       "  <thead>\n",
       "    <tr style=\"text-align: right;\">\n",
       "      <th></th>\n",
       "      <th>cve_id</th>\n",
       "      <th>vulnerable_product</th>\n",
       "    </tr>\n",
       "  </thead>\n",
       "  <tbody>\n",
       "    <tr>\n",
       "      <th>count</th>\n",
       "      <td>180585</td>\n",
       "      <td>180543</td>\n",
       "    </tr>\n",
       "    <tr>\n",
       "      <th>unique</th>\n",
       "      <td>89660</td>\n",
       "      <td>40553</td>\n",
       "    </tr>\n",
       "    <tr>\n",
       "      <th>top</th>\n",
       "      <td>CVE-2018-12207</td>\n",
       "      <td>debian_linux</td>\n",
       "    </tr>\n",
       "    <tr>\n",
       "      <th>freq</th>\n",
       "      <td>755</td>\n",
       "      <td>2972</td>\n",
       "    </tr>\n",
       "  </tbody>\n",
       "</table>\n",
       "</div>"
      ],
      "text/plain": [
       "                cve_id vulnerable_product\n",
       "count           180585             180543\n",
       "unique           89660              40553\n",
       "top     CVE-2018-12207       debian_linux\n",
       "freq               755               2972"
      ]
     },
     "execution_count": 324,
     "metadata": {},
     "output_type": "execute_result"
    }
   ],
   "source": [
    "products.describe(include='all')"
   ]
  },
  {
   "cell_type": "markdown",
   "id": "4dc62495",
   "metadata": {},
   "source": [
    "VENDORS datasets"
   ]
  },
  {
   "cell_type": "code",
   "execution_count": 325,
   "id": "fdfb21c5",
   "metadata": {},
   "outputs": [
    {
     "data": {
      "text/plain": [
       "(101658, 2)"
      ]
     },
     "execution_count": 325,
     "metadata": {},
     "output_type": "execute_result"
    }
   ],
   "source": [
    "vendors.shape"
   ]
  },
  {
   "cell_type": "code",
   "execution_count": 326,
   "id": "4907eb5f",
   "metadata": {},
   "outputs": [
    {
     "data": {
      "text/html": [
       "<div>\n",
       "<style scoped>\n",
       "    .dataframe tbody tr th:only-of-type {\n",
       "        vertical-align: middle;\n",
       "    }\n",
       "\n",
       "    .dataframe tbody tr th {\n",
       "        vertical-align: top;\n",
       "    }\n",
       "\n",
       "    .dataframe thead th {\n",
       "        text-align: right;\n",
       "    }\n",
       "</style>\n",
       "<table border=\"1\" class=\"dataframe\">\n",
       "  <thead>\n",
       "    <tr style=\"text-align: right;\">\n",
       "      <th></th>\n",
       "      <th>Unnamed: 0</th>\n",
       "      <th>vendor</th>\n",
       "    </tr>\n",
       "  </thead>\n",
       "  <tbody>\n",
       "    <tr>\n",
       "      <th>0</th>\n",
       "      <td>CVE-2019-16548</td>\n",
       "      <td>jenkins</td>\n",
       "    </tr>\n",
       "    <tr>\n",
       "      <th>1</th>\n",
       "      <td>CVE-2019-16547</td>\n",
       "      <td>jenkins</td>\n",
       "    </tr>\n",
       "    <tr>\n",
       "      <th>2</th>\n",
       "      <td>CVE-2019-16546</td>\n",
       "      <td>jenkins</td>\n",
       "    </tr>\n",
       "    <tr>\n",
       "      <th>3</th>\n",
       "      <td>CVE-2013-2092</td>\n",
       "      <td>dolibarr</td>\n",
       "    </tr>\n",
       "    <tr>\n",
       "      <th>4</th>\n",
       "      <td>CVE-2013-2091</td>\n",
       "      <td>dolibarr</td>\n",
       "    </tr>\n",
       "  </tbody>\n",
       "</table>\n",
       "</div>"
      ],
      "text/plain": [
       "       Unnamed: 0    vendor\n",
       "0  CVE-2019-16548   jenkins\n",
       "1  CVE-2019-16547   jenkins\n",
       "2  CVE-2019-16546   jenkins\n",
       "3   CVE-2013-2092  dolibarr\n",
       "4   CVE-2013-2091  dolibarr"
      ]
     },
     "execution_count": 326,
     "metadata": {},
     "output_type": "execute_result"
    }
   ],
   "source": [
    "vendors.head()"
   ]
  },
  {
   "cell_type": "code",
   "execution_count": 327,
   "id": "51f2a0ef",
   "metadata": {},
   "outputs": [],
   "source": [
    "vendors.rename(columns={'Unnamed: 0': 'cve_id'}, inplace=True)"
   ]
  },
  {
   "cell_type": "code",
   "execution_count": 328,
   "id": "0a666231",
   "metadata": {},
   "outputs": [
    {
     "name": "stdout",
     "output_type": "stream",
     "text": [
      "<class 'pandas.core.frame.DataFrame'>\n",
      "RangeIndex: 101658 entries, 0 to 101657\n",
      "Data columns (total 2 columns):\n",
      " #   Column  Non-Null Count   Dtype \n",
      "---  ------  --------------   ----- \n",
      " 0   cve_id  101658 non-null  object\n",
      " 1   vendor  101616 non-null  object\n",
      "dtypes: object(2)\n",
      "memory usage: 1.6+ MB\n"
     ]
    }
   ],
   "source": [
    "vendors.info()"
   ]
  },
  {
   "cell_type": "code",
   "execution_count": 329,
   "id": "33b0aa11",
   "metadata": {},
   "outputs": [
    {
     "data": {
      "text/plain": [
       "0"
      ]
     },
     "execution_count": 329,
     "metadata": {},
     "output_type": "execute_result"
    }
   ],
   "source": [
    "vendors.duplicated().sum()"
   ]
  },
  {
   "cell_type": "code",
   "execution_count": 330,
   "id": "cf763d1c",
   "metadata": {},
   "outputs": [
    {
     "data": {
      "text/plain": [
       "cve_id     0\n",
       "vendor    42\n",
       "dtype: int64"
      ]
     },
     "execution_count": 330,
     "metadata": {},
     "output_type": "execute_result"
    }
   ],
   "source": [
    "vendors.isna().sum()"
   ]
  },
  {
   "cell_type": "code",
   "execution_count": 331,
   "id": "20f93bef",
   "metadata": {},
   "outputs": [
    {
     "data": {
      "text/html": [
       "<div>\n",
       "<style scoped>\n",
       "    .dataframe tbody tr th:only-of-type {\n",
       "        vertical-align: middle;\n",
       "    }\n",
       "\n",
       "    .dataframe tbody tr th {\n",
       "        vertical-align: top;\n",
       "    }\n",
       "\n",
       "    .dataframe thead th {\n",
       "        text-align: right;\n",
       "    }\n",
       "</style>\n",
       "<table border=\"1\" class=\"dataframe\">\n",
       "  <thead>\n",
       "    <tr style=\"text-align: right;\">\n",
       "      <th></th>\n",
       "      <th>cve_id</th>\n",
       "      <th>vendor</th>\n",
       "    </tr>\n",
       "  </thead>\n",
       "  <tbody>\n",
       "    <tr>\n",
       "      <th>count</th>\n",
       "      <td>101658</td>\n",
       "      <td>101616</td>\n",
       "    </tr>\n",
       "    <tr>\n",
       "      <th>unique</th>\n",
       "      <td>89660</td>\n",
       "      <td>16175</td>\n",
       "    </tr>\n",
       "    <tr>\n",
       "      <th>top</th>\n",
       "      <td>CVE-2007-0018</td>\n",
       "      <td>microsoft</td>\n",
       "    </tr>\n",
       "    <tr>\n",
       "      <th>freq</th>\n",
       "      <td>33</td>\n",
       "      <td>5037</td>\n",
       "    </tr>\n",
       "  </tbody>\n",
       "</table>\n",
       "</div>"
      ],
      "text/plain": [
       "               cve_id     vendor\n",
       "count          101658     101616\n",
       "unique          89660      16175\n",
       "top     CVE-2007-0018  microsoft\n",
       "freq               33       5037"
      ]
     },
     "execution_count": 331,
     "metadata": {},
     "output_type": "execute_result"
    }
   ],
   "source": [
    "vendors.describe(include='all')"
   ]
  },
  {
   "cell_type": "markdown",
   "id": "36622edc",
   "metadata": {},
   "source": [
    "VENDORS PRODUCTS dataset"
   ]
  },
  {
   "cell_type": "code",
   "execution_count": 332,
   "id": "a083cb14",
   "metadata": {},
   "outputs": [
    {
     "data": {
      "text/plain": [
       "(43081, 2)"
      ]
     },
     "execution_count": 332,
     "metadata": {},
     "output_type": "execute_result"
    }
   ],
   "source": [
    "vendors_products.shape"
   ]
  },
  {
   "cell_type": "code",
   "execution_count": 333,
   "id": "99d54f59",
   "metadata": {},
   "outputs": [
    {
     "data": {
      "text/html": [
       "<div>\n",
       "<style scoped>\n",
       "    .dataframe tbody tr th:only-of-type {\n",
       "        vertical-align: middle;\n",
       "    }\n",
       "\n",
       "    .dataframe tbody tr th {\n",
       "        vertical-align: top;\n",
       "    }\n",
       "\n",
       "    .dataframe thead th {\n",
       "        text-align: right;\n",
       "    }\n",
       "</style>\n",
       "<table border=\"1\" class=\"dataframe\">\n",
       "  <thead>\n",
       "    <tr style=\"text-align: right;\">\n",
       "      <th></th>\n",
       "      <th>vendor</th>\n",
       "      <th>product</th>\n",
       "    </tr>\n",
       "  </thead>\n",
       "  <tbody>\n",
       "    <tr>\n",
       "      <th>0</th>\n",
       "      <td>jenkins</td>\n",
       "      <td>google_compute_engine</td>\n",
       "    </tr>\n",
       "    <tr>\n",
       "      <th>1</th>\n",
       "      <td>dolibarr</td>\n",
       "      <td>dolibarr</td>\n",
       "    </tr>\n",
       "    <tr>\n",
       "      <th>2</th>\n",
       "      <td>mediawiki</td>\n",
       "      <td>mediawiki</td>\n",
       "    </tr>\n",
       "    <tr>\n",
       "      <th>3</th>\n",
       "      <td>debian</td>\n",
       "      <td>debian_linux</td>\n",
       "    </tr>\n",
       "    <tr>\n",
       "      <th>4</th>\n",
       "      <td>redhat</td>\n",
       "      <td>enterprise_linux</td>\n",
       "    </tr>\n",
       "  </tbody>\n",
       "</table>\n",
       "</div>"
      ],
      "text/plain": [
       "      vendor                product\n",
       "0    jenkins  google_compute_engine\n",
       "1   dolibarr               dolibarr\n",
       "2  mediawiki              mediawiki\n",
       "3     debian           debian_linux\n",
       "4     redhat       enterprise_linux"
      ]
     },
     "execution_count": 333,
     "metadata": {},
     "output_type": "execute_result"
    }
   ],
   "source": [
    "vendors_products.head()"
   ]
  },
  {
   "cell_type": "code",
   "execution_count": 334,
   "id": "deba5046",
   "metadata": {},
   "outputs": [
    {
     "data": {
      "text/plain": [
       "0"
      ]
     },
     "execution_count": 334,
     "metadata": {},
     "output_type": "execute_result"
    }
   ],
   "source": [
    "vendors_products.duplicated().sum()"
   ]
  },
  {
   "cell_type": "code",
   "execution_count": 335,
   "id": "a408f000",
   "metadata": {},
   "outputs": [
    {
     "data": {
      "text/plain": [
       "vendor     0\n",
       "product    0\n",
       "dtype: int64"
      ]
     },
     "execution_count": 335,
     "metadata": {},
     "output_type": "execute_result"
    }
   ],
   "source": [
    "vendors_products.isna().sum()"
   ]
  },
  {
   "cell_type": "code",
   "execution_count": 336,
   "id": "7d4bed39",
   "metadata": {},
   "outputs": [
    {
     "data": {
      "text/html": [
       "<div>\n",
       "<style scoped>\n",
       "    .dataframe tbody tr th:only-of-type {\n",
       "        vertical-align: middle;\n",
       "    }\n",
       "\n",
       "    .dataframe tbody tr th {\n",
       "        vertical-align: top;\n",
       "    }\n",
       "\n",
       "    .dataframe thead th {\n",
       "        text-align: right;\n",
       "    }\n",
       "</style>\n",
       "<table border=\"1\" class=\"dataframe\">\n",
       "  <thead>\n",
       "    <tr style=\"text-align: right;\">\n",
       "      <th></th>\n",
       "      <th>vendor</th>\n",
       "      <th>product</th>\n",
       "    </tr>\n",
       "  </thead>\n",
       "  <tbody>\n",
       "    <tr>\n",
       "      <th>count</th>\n",
       "      <td>43081</td>\n",
       "      <td>43081</td>\n",
       "    </tr>\n",
       "    <tr>\n",
       "      <th>unique</th>\n",
       "      <td>16175</td>\n",
       "      <td>40553</td>\n",
       "    </tr>\n",
       "    <tr>\n",
       "      <th>top</th>\n",
       "      <td>hp</td>\n",
       "      <td>cms</td>\n",
       "    </tr>\n",
       "    <tr>\n",
       "      <th>freq</th>\n",
       "      <td>2541</td>\n",
       "      <td>18</td>\n",
       "    </tr>\n",
       "  </tbody>\n",
       "</table>\n",
       "</div>"
      ],
      "text/plain": [
       "       vendor product\n",
       "count   43081   43081\n",
       "unique  16175   40553\n",
       "top        hp     cms\n",
       "freq     2541      18"
      ]
     },
     "execution_count": 336,
     "metadata": {},
     "output_type": "execute_result"
    }
   ],
   "source": [
    "vendors_products.describe(include='all')"
   ]
  },
  {
   "cell_type": "markdown",
   "id": "57744775",
   "metadata": {},
   "source": [
    "## Wrangling the datasets"
   ]
  },
  {
   "cell_type": "code",
   "execution_count": 338,
   "id": "f735a878",
   "metadata": {},
   "outputs": [],
   "source": [
    "#creating a new instance of all datasets to wrangle\n",
    "cve_clean = cve.copy()\n",
    "products_clean = products.copy()\n",
    "vendors_clean = vendors.copy()\n",
    "vendors_products_clean = vendors_products.copy()"
   ]
  },
  {
   "cell_type": "markdown",
   "id": "2c6ce077",
   "metadata": {},
   "source": [
    "CVE dataset"
   ]
  },
  {
   "cell_type": "markdown",
   "id": "d9f0f0ba",
   "metadata": {},
   "source": [
    "correcting the datatypes"
   ]
  },
  {
   "cell_type": "code",
   "execution_count": 339,
   "id": "05bb58a0",
   "metadata": {},
   "outputs": [],
   "source": [
    "cve['mod_date'] = pd.to_datetime(cve['mod_date'])\n",
    "cve['pub_date'] = pd.to_datetime(cve['pub_date'])\n",
    "cve['cwe_code'] = cve['cwe_code'].astype(str)"
   ]
  },
  {
   "cell_type": "code",
   "execution_count": 340,
   "id": "43bc615b",
   "metadata": {},
   "outputs": [],
   "source": [
    "ordinal_var_dict = {'access_authentication': ['NONE', 'SINGLE', 'MULTIPLE'],\n",
    "                    'access_complexity': ['LOW', 'MEDIUM', 'HIGH'],\n",
    "                    'access_vector': ['LOCAL', 'ADJACENT_NETWORK', 'NETWORK'],\n",
    "                   'impact_availability': ['NONE', 'PARTIAL', 'COMPLETE'],\n",
    "                   'impact_confidentiality': ['NONE', 'PARTIAL', 'COMPLETE'],\n",
    "                   'impact_integrity': ['NONE', 'PARTIAL', 'COMPLETE']}\n",
    "\n",
    "for var in ordinal_var_dict:\n",
    "    ordered_var = pd.api.types.CategoricalDtype(ordered = True,\n",
    "                                                categories = ordinal_var_dict[var])\n",
    "    cve[var] = cve[var].astype(ordered_var)"
   ]
  },
  {
   "cell_type": "markdown",
   "id": "ad012345",
   "metadata": {},
   "source": [
    "I converted the mod_date column and the pub_date column to datetime. Then I converted cwe_code to a string object because it as the same unique number as cwe_name, so I inferred that it is a index number to cwe_name column i.e each cwe_code conforms to a particular cwe_name. Also I converted the access_authentication, access_complexity, access_vector, impact_availability, impact_confidentiality, impact_integrity columns into categorical datatypes."
   ]
  },
  {
   "cell_type": "code",
   "execution_count": 341,
   "id": "4184beaa",
   "metadata": {},
   "outputs": [],
   "source": [
    "#dropping all null values for all datasets\n",
    "cve_clean.dropna(inplace=True)\n",
    "products_clean.dropna(inplace=True)\n",
    "vendors_clean.dropna(inplace=True)\n",
    "vendors_products_clean.dropna(inplace=True)"
   ]
  },
  {
   "cell_type": "code",
   "execution_count": 235,
   "id": "e3d29025",
   "metadata": {},
   "outputs": [],
   "source": [
    "categorical = ['access_authentication', 'access_complexity', 'access_vector', 'impact_availability', 'impact_confidentiality', 'impact_integrity']\n",
    "numerical = ['cvss']"
   ]
  },
  {
   "cell_type": "markdown",
   "id": "da12f996",
   "metadata": {},
   "source": [
    "## Problem Statement\n",
    "For the given datasets, we could focus on three problems, which are:\n",
    "<ol>\n",
    "    <li>Tell the vendor, which features to focus on in other to make it's products less vulnerable</li>\n",
    "    <li>Tell the consumer which are interested in getting a products which products is less vulnerable</li>\n",
    "    <li>Tell the customers which vendor to patronise i.e the vendors whose products are less vulnerable </li>\n",
    "</ol>\n",
    "For this analysis, I will be focusing on the first problem statement which is to tell the vendor which features to focus on to make it's products less vulnerable by looking at the relationships between the features and the common vulnerability scoring system(cvss)"
   ]
  },
  {
   "cell_type": "markdown",
   "id": "2a4f4e47",
   "metadata": {},
   "source": [
    "Distribution of  CVSS"
   ]
  },
  {
   "cell_type": "code",
   "execution_count": 262,
   "id": "77ad7729",
   "metadata": {
    "scrolled": true
   },
   "outputs": [
    {
     "data": {
      "image/png": "[encoded data removed]",
      "text/plain": [
       "<Figure size 360x360 with 1 Axes>"
      ]
     },
     "metadata": {
      "needs_background": "light"
     },
     "output_type": "display_data"
    }
   ],
   "source": [
    "sb.displot(data=cve_copy, x='cvss', kde=False);\n",
    "plt.title('CVSS Distribution')\n",
    "plt.yscale('log')"
   ]
  },
  {
   "cell_type": "markdown",
   "id": "afb00290",
   "metadata": {},
   "source": [
    "It shows a multimodal distribution with most of the common vulnerability score ranging between 4.3 and 8.5. "
   ]
  },
  {
   "cell_type": "markdown",
   "id": "a98b4c30",
   "metadata": {},
   "source": [
    "What are the top most common vulnerabilities?"
   ]
  },
  {
   "cell_type": "code",
   "execution_count": 258,
   "id": "e13eefd2",
   "metadata": {},
   "outputs": [
    {
     "data": {
      "text/plain": [
       " Improper Restriction of Operations within the Bounds of a Memory Buffer                        46433\n",
       " Information Exposure                                                                           22540\n",
       " Improper Input Validation                                                                      22370\n",
       " Permissions Privileges and Access Controls                                                     19022\n",
       " Improper Neutralization of Input During Web Page Generation ('Cross-site Scripting')           16637\n",
       " Resource Management Errors                                                                      8892\n",
       " Out-of-bounds Read                                                                              7123\n",
       " Use After Free                                                                                  6894\n",
       " Improper Neutralization of Special Elements used in an SQL Command ('SQL Injection')            6535\n",
       " Improper Access Control                                                                         5446\n",
       " Cryptographic Issues                                                                            5135\n",
       " Numeric Errors                                                                                  4920\n",
       " Improper Limitation of a Pathname to a Restricted Directory ('Path Traversal')                  4399\n",
       " Improper Control of Generation of Code ('Code Injection')                                       4317\n",
       " Improper Authentication                                                                         4206\n",
       " Integer Overflow or Wraparound                                                                  4021\n",
       " Cross-Site Request Forgery (CSRF)                                                               3881\n",
       " NULL Pointer Dereference                                                                        3476\n",
       " Out-of-bounds Write                                                                             2944\n",
       " Concurrent Execution using Shared Resource with Improper Synchronization ('Race Condition')     2301\n",
       "Name: cwe_name, dtype: int64"
      ]
     },
     "execution_count": 258,
     "metadata": {},
     "output_type": "execute_result"
    }
   ],
   "source": [
    "df.cwe_name.value_counts().head(20)"
   ]
  },
  {
   "cell_type": "code",
   "execution_count": 268,
   "id": "e65307c4",
   "metadata": {},
   "outputs": [
    {
     "data": {
      "image/png": "[encoded data removed]",
      "text/plain": [
       "<Figure size 1440x576 with 1 Axes>"
      ]
     },
     "metadata": {
      "needs_background": "light"
     },
     "output_type": "display_data"
    }
   ],
   "source": [
    "plt.figure(figsize=(20,8));\n",
    "plt.bar(df.cwe_name.value_counts().head(40).index, df.cwe_name.value_counts().head(40).values);\n",
    "plt.title(\"Frequency Plot of the First 20 common vulnerabilities\");\n",
    "plt.xlabel('Frequency');\n",
    "plt.ylabel('Common Vulnerability');\n",
    "plt.xticks(rotation=90);"
   ]
  },
  {
   "cell_type": "markdown",
   "id": "70f697b2",
   "metadata": {},
   "source": [
    "The chart above shows the frequency of common vulnerability, with Improper Restriction of Operations within the Bounds of a Memory Buffer, Improper Neutralization of Input During Web Page Generation ('Cross-site Scripting'), Improper Input Validation, Information Exposure and Permissions Privileges and Access Controls having about 57% of the entire data."
   ]
  },
  {
   "cell_type": "markdown",
   "id": "ebbd1dab",
   "metadata": {},
   "source": [
    "Frequency of access authentication, access complexity, access vector, impact availability, impact confidentiality, impact integrity values."
   ]
  },
  {
   "cell_type": "code",
   "execution_count": 259,
   "id": "4ad65acd",
   "metadata": {},
   "outputs": [
    {
     "data": {
      "image/png": "[encoded data removed]",
      "text/plain": [
       "<Figure size 1080x576 with 6 Axes>"
      ]
     },
     "metadata": {
      "needs_background": "light"
     },
     "output_type": "display_data"
    }
   ],
   "source": [
    "plt.figure(figsize=(15,8))\n",
    "default_color = sb.color_palette()[0]\n",
    "\n",
    "plt.subplot(2,3,1);\n",
    "sb.countplot(data = cve_copy, x = 'access_authentication', color = default_color);\n",
    "plt.subplot(2,3,2);\n",
    "sb.countplot(data = cve_copy, x = 'access_complexity', color = default_color);\n",
    "plt.subplot(2,3,3);\n",
    "sb.countplot(data = cve_copy, x = 'access_vector', color = default_color);\n",
    "plt.subplot(2,3,4)\n",
    "sb.countplot(data = cve_copy, x = 'impact_availability', color = default_color);\n",
    "plt.subplot(2,3,5)\n",
    "sb.countplot(data = cve_copy, x = 'impact_confidentiality', color = default_color);\n",
    "plt.subplot(2,3,6)\n",
    "sb.countplot(data = cve_copy, x = 'impact_integrity', color = default_color);\n",
    "\n",
    "\n",
    "plt.show()"
   ]
  },
  {
   "cell_type": "markdown",
   "id": "1f7b9cb8",
   "metadata": {},
   "source": [
    "The above chart shows count of each values in the categorical variables. I observed that:\n",
    "<ol>\n",
    "    <li>a high percentage of the access authentication are none</li>\n",
    "    <li>most access complexity are either low or medium</li>\n",
    "    <li>network access vector has the highest percentage</li>\n",
    "    <li>a high frequncy of the impact availability, impact confidentiality and impact integrity are partial</li>\n",
    "</ol>"
   ]
  },
  {
   "cell_type": "markdown",
   "id": "218b8898",
   "metadata": {},
   "source": [
    "Next, lets look at how the categorical variables affect the common vulnerability scores."
   ]
  },
  {
   "cell_type": "code",
   "execution_count": 269,
   "id": "81d15fea",
   "metadata": {},
   "outputs": [
    {
     "data": {
      "image/png": "[encoded data removed]",
      "text/plain": [
       "<Figure size 1080x576 with 6 Axes>"
      ]
     },
     "metadata": {
      "needs_background": "light"
     },
     "output_type": "display_data"
    }
   ],
   "source": [
    "plt.figure(figsize=(15,8))\n",
    "default_color = sb.color_palette()[0]\n",
    "\n",
    "plt.subplot(2,3,1);\n",
    "sb.barplot(data = cve_copy, x = 'access_authentication', y='cvss', color = default_color);\n",
    "plt.subplot(2,3,2);\n",
    "sb.barplot(data = cve_copy, x = 'access_complexity', y='cvss', color = default_color);\n",
    "plt.subplot(2,3,3);\n",
    "sb.barplot(data = cve_copy, x = 'access_vector', y='cvss', color = default_color);\n",
    "plt.subplot(2,3,4)\n",
    "sb.barplot(data = cve_copy, x = 'impact_availability', y='cvss', color = default_color);\n",
    "plt.subplot(2,3,5)\n",
    "sb.barplot(data = cve_copy, x = 'impact_confidentiality', y='cvss', color = default_color);\n",
    "plt.subplot(2,3,6)\n",
    "sb.barplot(data = cve_copy, x = 'impact_integrity', y='cvss', color = default_color);\n",
    "\n",
    "\n",
    "plt.show()"
   ]
  },
  {
   "cell_type": "markdown",
   "id": "591a8790",
   "metadata": {},
   "source": [
    "From the above charts, I observed that:\n",
    "<ol>\n",
    "    <li>as the access complexity increase from low to high the average cvss decreases</li>\n",
    "    <li>as the access vector increase from local to adjacent network, and to network, the mean cvss increases.</li>\n",
    "    <li>products with no access authentication have higher cvss while those with single access authentication have lower cvss</li>\n",
    "    <li>as impact availability, impact confidentiality and impact integrity moves from none to partial and then to  complete, the cvss increases.</li>\n",
    "</ol>\n",
    "Therefore, It is seen that it is better to have single access authentication than to have no or multiple access authentication. Also, products with very complex access and a local access vector are less vulnerable."
   ]
  },
  {
   "cell_type": "markdown",
   "id": "83a80e70",
   "metadata": {},
   "source": [
    "Since all impact variables shows the same trend, Let's look at the relationship between the access variables which are (access authentication, access complexity, access vector)."
   ]
  },
  {
   "cell_type": "code",
   "execution_count": 285,
   "id": "677d4708",
   "metadata": {},
   "outputs": [
    {
     "data": {
      "image/png": "[encoded data removed]",
      "text/plain": [
       "<Figure size 720x360 with 1 Axes>"
      ]
     },
     "metadata": {
      "needs_background": "light"
     },
     "output_type": "display_data"
    }
   ],
   "source": [
    "plt.figure(figsize=(10,5))\n",
    "sb.barplot(data=cve_copy, x='access_complexity', y='cvss', hue='access_authentication');"
   ]
  },
  {
   "cell_type": "markdown",
   "id": "b6fd7903",
   "metadata": {},
   "source": [
    "Combining both the access complexity and authentication together, I observed that for products with medium and high complex access the single authentication access, still has the lowest cvss value, but the low complex access, both single and multiple have the same cvss value."
   ]
  },
  {
   "cell_type": "code",
   "execution_count": 287,
   "id": "71c21690",
   "metadata": {},
   "outputs": [
    {
     "data": {
      "image/png": "[encoded data removed]",
      "text/plain": [
       "<Figure size 720x360 with 1 Axes>"
      ]
     },
     "metadata": {
      "needs_background": "light"
     },
     "output_type": "display_data"
    }
   ],
   "source": [
    "plt.figure(figsize=(10,5))\n",
    "sb.barplot(data=cve_copy, x='access_complexity', y='cvss', hue='access_vector');"
   ]
  },
  {
   "cell_type": "markdown",
   "id": "ec50c121",
   "metadata": {},
   "source": [
    "Combining both the access complexity and access vector, I infered that to have a less vulnerable product (low cvss), the vendor should have a high access complexity and a local access vector."
   ]
  },
  {
   "cell_type": "code",
   "execution_count": 283,
   "id": "29c2d6bc",
   "metadata": {},
   "outputs": [
    {
     "data": {
      "image/png": "[encoded data removed]",
      "text/plain": [
       "<Figure size 720x360 with 1 Axes>"
      ]
     },
     "metadata": {
      "needs_background": "light"
     },
     "output_type": "display_data"
    }
   ],
   "source": [
    "plt.figure(figsize=(10,5))\n",
    "sb.barplot(data=cve_copy, x='access_vector', y='cvss', hue='access_authentication');"
   ]
  },
  {
   "cell_type": "markdown",
   "id": "0f42b042",
   "metadata": {},
   "source": [
    "Combining both the access vector and access authentication, I observed that it is safest to use single access authentication for all access vector except for local access vector, which it is safest not to have an access authentication at all.\n"
   ]
  },
  {
   "cell_type": "markdown",
   "id": "d024ad24",
   "metadata": {},
   "source": [
    "## Conclusion\n",
    "> From the exploration done on the required dataset, It is shown that for a product to be less vulnerable (to have low cvss) the access complexity should be high, it should have a single access authentication for both adjacent network and network access vector and no access authentication for local access vector."
   ]
  }
 ],
 "metadata": {
  "kernelspec": {
   "display_name": "Python 3 (ipykernel)",
   "language": "python",
   "name": "python3"
  },
  "language_info": {
   "codemirror_mode": {
    "name": "ipython",
    "version": 3
   },
   "file_extension": ".py",
   "mimetype": "text/x-python",
   "name": "python",
   "nbconvert_exporter": "python",
   "pygments_lexer": "ipython3",
   "version": "3.9.7"
  }
 },
 "nbformat": 4,
 "nbformat_minor": 5
}
